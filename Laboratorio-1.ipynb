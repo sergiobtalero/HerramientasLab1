{
 "cells": [
  {
   "cell_type": "markdown",
   "metadata": {},
   "source": [
    "**INTEGRANTES:**\n",
    "1. José Ignacio Rengifo Villegas\n",
    "2. Sergio David Bravo Talero"
   ]
  },
  {
   "cell_type": "markdown",
   "metadata": {},
   "source": [
    "# Laboratorio 1: Desarrollo de una herramienta analítica\n",
    "\n",
    "En este documento se da a conocer la implementación realizada por los estudiantes: \n",
    "- José Rengifo: 2021\n",
    "- Sergio Bravo: 200714733\n",
    "\n",
    "## Fase 1: OBTENER E INSPECCIONAR ARCHIVOS\n",
    "### Misión 1: Parsear la data"
   ]
  },
  {
   "cell_type": "code",
   "execution_count": 56,
   "metadata": {},
   "outputs": [],
   "source": [
    "def loadDataFromFilteAt(path):\n",
    "    return open(path, 'r', newline = '\\r\\n').read().splitlines()\n",
    "\n",
    "def loadData():\n",
    "    edades = loadDataFromFilteAt(\"Archivos/edad.txt\")\n",
    "    edades = [int(i) for i in edades]\n",
    "\n",
    "    estadosCiviles = loadDataFromFilteAt(\"Archivos/estado_civil.txt\") \n",
    "    escolaridades = loadDataFromFilteAt(\"Archivos/escolaridad.txt\")\n",
    "    \n",
    "    estratos = loadDataFromFilteAt(\"Archivos/estrato.txt\")\n",
    "    estratos = [int(i) for i in estratos]\n",
    "\n",
    "    generos = loadDataFromFilteAt(\"Archivos/genero.txt\")\n",
    "    \n",
    "    promedios = loadDataFromFilteAt(\"Archivos/promedio.txt\")\n",
    "    promedios = [float(i) for i in promedios]\n",
    "\n",
    "    regiones = loadDataFromFilteAt(\"Archivos/region.txt\")\n",
    "    data = [edades, estadosCiviles, escolaridades, estratos, generos, promedios, regiones]\n",
    "    return data\n",
    " \n",
    "(edades, estadosCiviles, escolaridades, estratos, generos, promedios, regiones) = loadData()"
   ]
  },
  {
   "cell_type": "markdown",
   "metadata": {},
   "source": [
    "### Misión 2: Calcular estadísticas"
   ]
  },
  {
   "cell_type": "markdown",
   "metadata": {},
   "source": [
    "A continuación los calculos realizados para obtener las medias y las desviaciones estándar para los parámetros: edades, estratos y promedio."
   ]
  },
  {
   "cell_type": "code",
   "execution_count": 57,
   "metadata": {},
   "outputs": [
    {
     "name": "stdout",
     "output_type": "stream",
     "text": [
      "(48.748, 2.308, 2.6212000000000004) (18.613474120584673, 0.9772645968131471, 1.1170345080544164)\n"
     ]
    }
   ],
   "source": [
    "import functools\n",
    "import math\n",
    "\n",
    "dataSize = min(len(edades), len(estadosCiviles), len(escolaridades), len(estratos), len(generos), len(promedios), len(regiones))\n",
    "def getMeans():\n",
    "    suma_edades = functools.reduce(lambda a, b: a + b, edades, 0)\n",
    "    suma_estrato = functools.reduce(lambda a, b: a + b, estratos, 0)\n",
    "    suma_promedio = functools.reduce(lambda a, b: a + b, promedios, 0)\n",
    "    return (suma_edades / dataSize,\n",
    "            suma_estrato / dataSize,\n",
    "            suma_promedio / dataSize)\n",
    "\n",
    "def getDeviation():\n",
    "    medias = getMeans()\n",
    "    desviacion_edades = math.sqrt(functools.reduce(lambda a, b: a + math.pow(b - medias[0], 2), edades, 0) / (dataSize - 1))\n",
    "    desviacion_estrato = math.sqrt(functools.reduce(lambda a, b: a + math.pow(b - medias[1], 2), estratos, 0) / (dataSize - 1))\n",
    "    desviacion_promedio = math.sqrt(functools.reduce(lambda a, b: a + math.pow(b - medias[2], 2), promedios, 0) / (dataSize - 1))\n",
    "    return(desviacion_edades, desviacion_estrato, desviacion_promedio)\n",
    "\n",
    "desviaciones = getDeviation()\n",
    "medias = getMeans()\n",
    "print(medias, desviaciones)"
   ]
  },
  {
   "cell_type": "markdown",
   "metadata": {},
   "source": [
    "Acá las gráficas para representar el problema:"
   ]
  },
  {
   "cell_type": "code",
   "execution_count": 58,
   "metadata": {},
   "outputs": [
    {
     "data": {
      "text/plain": [
       "Text(0, 0.5, 'Estratos')"
      ]
     },
     "execution_count": 58,
     "metadata": {},
     "output_type": "execute_result"
    },
    {
     "data": {
      "image/png": "[encoded data removed]",
      "text/plain": [
       "<Figure size 1000x600 with 1 Axes>"
      ]
     },
     "metadata": {},
     "output_type": "display_data"
    }
   ],
   "source": [
    "import matplotlib.pyplot as plt\n",
    "\n",
    "xPositions = list(range(0, 500))\n",
    "fig, ax = plt.subplots(figsize=(10, 6))\n",
    "# ax.scatter(x = estratos, y = promedios)\n",
    "ax.bar(generos, promedios)\n",
    "plt.xlabel(\"Edades\")\n",
    "plt.ylabel(\"Estratos\")\n",
    "\n",
    "# plt.show()"
   ]
  },
  {
   "cell_type": "code",
   "execution_count": null,
   "metadata": {},
   "outputs": [],
   "source": []
  }
 ],
 "metadata": {
  "kernelspec": {
   "display_name": "Python 3.10.6 64-bit",
   "language": "python",
   "name": "python3"
  },
  "language_info": {
   "codemirror_mode": {
    "name": "ipython",
    "version": 3
   },
   "file_extension": ".py",
   "mimetype": "text/x-python",
   "name": "python",
   "nbconvert_exporter": "python",
   "pygments_lexer": "ipython3",
   "version": "3.10.6"
  },
  "orig_nbformat": 4,
  "vscode": {
   "interpreter": {
    "hash": "98590ff4fe04c8543246b2a01debd3de3c5ca9b666f43f1fa87d5110c692004c"
   }
  }
 },
 "nbformat": 4,
 "nbformat_minor": 2
}
