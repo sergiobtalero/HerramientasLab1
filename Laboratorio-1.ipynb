{
 "cells": [
  {
   "cell_type": "markdown",
   "metadata": {},
   "source": [
    "**INTEGRANTES:**\n",
    "1. José Ignacio Rengifo Villegas\n",
    "2. Sergio David Bravo Talero"
   ]
  },
  {
   "cell_type": "markdown",
   "metadata": {},
   "source": [
    "# Laboratorio 1: Desarrollo de una herramienta analítica\n",
    "\n",
    "En este documento se da a conocer la implementación realizada por los estudiantes: \n",
    "- José Rengifo: 2021\n",
    "- Sergio Bravo: 200714733\n",
    "\n",
    "## Fase 1: OBTENER E INSPECCIONAR ARCHIVOS\n",
    "### Misión 1: Parsear la data"
   ]
  },
  {
   "cell_type": "code",
   "execution_count": 20,
   "metadata": {},
   "outputs": [],
   "source": [
    "def loadDataFromFilteAt(path):\n",
    "    return open(path, 'r', newline = '\\r\\n').read().splitlines()\n",
    "\n",
    "def loadData():\n",
    "    edades = loadDataFromFilteAt(\"Archivos/edad.txt\")\n",
    "    escolaridades = loadDataFromFilteAt(\"Archivos/estado_civil.txt\")\n",
    "    estratos = loadDataFromFilteAt(\"Archivos/estrato.txt\")\n",
    "    generos = loadDataFromFilteAt(\"Archivos/genero.txt\")\n",
    "    promedios = loadDataFromFilteAt(\"Archivos/promedio.txt\")\n",
    "    regiones = loadDataFromFilteAt(\"Archivos/region.txt\")\n",
    "    data = zip(edades, escolaridades, estratos, generos, promedios, regiones)\n",
    "    return list(data)\n",
    "\n",
    "class Persona:\n",
    "    def __init__(self, edad, escolaridad, estrato, genero, promedio, region):\n",
    "        self.edad = edad\n",
    "        self.escolaridad = escolaridad\n",
    "        self.estrato = estrato\n",
    "        self.genero = genero\n",
    "        self.promedio = promedio\n",
    "        self.region = region\n",
    " \n",
    "personas = []\n",
    "loadedData = loadData()\n",
    "for data in loadedData:\n",
    "    nueva_persona = Persona(\n",
    "        edad= data[0],\n",
    "        escolaridad = data[1],\n",
    "        estrato = data[2],\n",
    "        genero = data[3],\n",
    "        promedio = data[4],\n",
    "        region = data[5]\n",
    "    )\n",
    "    personas.append(nueva_persona)"
   ]
  },
  {
   "cell_type": "markdown",
   "metadata": {},
   "source": [
    "### Misión 2: Calcular estadísticas"
   ]
  },
  {
   "cell_type": "code",
   "execution_count": 35,
   "metadata": {},
   "outputs": [
    {
     "name": "stdout",
     "output_type": "stream",
     "text": [
      "[48.748, 2.308, 2.6212000000000004]\n"
     ]
    }
   ],
   "source": [
    "import functools\n",
    "\n",
    "dataSize = len(loadedData)\n",
    "def getMeans():\n",
    "    suma_edades = functools.reduce(lambda a, b: a + int(b.edad), personas, 0)\n",
    "    suma_estrato = functools.reduce(lambda a, b: a + int(b.estrato), personas, 0)\n",
    "    suma_promedio = functools.reduce(lambda a, b: a + float(b.promedio), personas, 0)\n",
    "    return (suma_edades / dataSize,\n",
    "            suma_estrato / dataSize,\n",
    "            suma_promedio / dataSize)\n",
    "medias = list(getMeans())\n",
    "print(medias)"
   ]
  },
  {
   "cell_type": "code",
   "execution_count": null,
   "metadata": {},
   "outputs": [],
   "source": []
  }
 ],
 "metadata": {
  "kernelspec": {
   "display_name": "Python 3.10.6 64-bit",
   "language": "python",
   "name": "python3"
  },
  "language_info": {
   "codemirror_mode": {
    "name": "ipython",
    "version": 3
   },
   "file_extension": ".py",
   "mimetype": "text/x-python",
   "name": "python",
   "nbconvert_exporter": "python",
   "pygments_lexer": "ipython3",
   "version": "3.10.6"
  },
  "orig_nbformat": 4,
  "vscode": {
   "interpreter": {
    "hash": "98590ff4fe04c8543246b2a01debd3de3c5ca9b666f43f1fa87d5110c692004c"
   }
  }
 },
 "nbformat": 4,
 "nbformat_minor": 2
}
