{
 "cells": [
  {
   "cell_type": "markdown",
   "id": "78385005",
   "metadata": {},
   "source": [
    "# FASE 3\n",
    "\n",
    "Programa para selección de estudiantes a becar\n",
    "\n",
    "**Cargue de datos:**"
   ]
  },
  {
   "cell_type": "code",
   "execution_count": 39,
   "id": "5cdcbd56",
   "metadata": {},
   "outputs": [],
   "source": [
    "def loadDataFromFilteAt(path):\n",
    "    return open(path, 'r', newline = '\\r\\n').read().splitlines()\n",
    "\n",
    "def loadData():\n",
    "    edades = loadDataFromFilteAt(\"Archivos/edad.txt\")\n",
    "    edades = [int(i) for i in edades]\n",
    "\n",
    "    estadosCiviles = loadDataFromFilteAt(\"Archivos/estado_civil.txt\") \n",
    "    escolaridades = loadDataFromFilteAt(\"Archivos/escolaridad.txt\")\n",
    "    \n",
    "    estratos = loadDataFromFilteAt(\"Archivos/estrato.txt\")\n",
    "    estratos = [int(i) for i in estratos]\n",
    "\n",
    "    generos = loadDataFromFilteAt(\"Archivos/genero.txt\")\n",
    "    \n",
    "    promedios = loadDataFromFilteAt(\"Archivos/promedio.txt\")\n",
    "    promedios = [float(i) for i in promedios]\n",
    "\n",
    "    regiones = loadDataFromFilteAt(\"Archivos/region.txt\")\n",
    "    data = [edades, estadosCiviles, escolaridades, estratos, generos, promedios, regiones]\n",
    "    return data\n",
    "(edades, estadosCiviles, escolaridades, estratos, generos, promedios, regiones) = loadData()\n",
    "\n",
    "class Estudiante:\n",
    "    def __init__(self, id, edad, estadoCivil, escolaridad, estrato, genero, promedio, region):\n",
    "        self.id = id\n",
    "        self.edad = edad\n",
    "        self.estadoCivil = estadoCivil\n",
    "        self.escolaridad = escolaridad\n",
    "        self.estrato = estrato\n",
    "        self.genero = genero\n",
    "        self.promedio = promedio\n",
    "        self.region = region\n",
    "        \n",
    "estudiantes = []\n",
    "for idx in list(range(0, 500)):\n",
    "    estudiante = Estudiante(idx, \n",
    "    edades[idx],\n",
    "    estadosCiviles[idx],\n",
    "    escolaridades[idx],\n",
    "    estratos[idx],\n",
    "    generos[idx],\n",
    "    promedios[idx],\n",
    "    regiones[idx])\n",
    "\n",
    "    estudiantes.append(estudiante)"
   ]
  },
  {
   "cell_type": "markdown",
   "id": "f0036dea",
   "metadata": {},
   "source": [
    "**Configuración del programa**"
   ]
  },
  {
   "cell_type": "code",
   "execution_count": 113,
   "id": "05a6e655",
   "metadata": {},
   "outputs": [],
   "source": [
    "scholarshipsNumber = 30\n",
    "minAge = 20\n",
    "maxAge = 40\n",
    "isGenderSelected = False\n",
    "isEstratoSelected = False\n",
    "isRegionSelected = True\n",
    "\n",
    "characteritics = [isGenderSelected, isEstratoSelected, isRegionSelected]"
   ]
  },
  {
   "cell_type": "code",
   "execution_count": 114,
   "id": "383502b9",
   "metadata": {},
   "outputs": [],
   "source": [
    "filteredStudents = list(filter(lambda e: e.edad >= minAge and e.edad <= maxAge, estudiantes))"
   ]
  },
  {
   "cell_type": "code",
   "execution_count": 115,
   "id": "5272043b",
   "metadata": {},
   "outputs": [],
   "source": [
    "import functools\n",
    "condition = len(list(filter(lambda c: c, characteritics)))\n",
    "\n",
    "# Se permite hasta un máximo de dos condiciones habilitadas en el programa\n",
    "assert(condition <= 2 and condition > 0)"
   ]
  },
  {
   "cell_type": "code",
   "execution_count": 117,
   "id": "c64448e4",
   "metadata": {},
   "outputs": [],
   "source": [
    "# Generar matriz de probabilidades\n",
    "matrix = {}\n",
    "\n",
    "genderRows = sorted([g for g in list(set(generos))])\n",
    "estratoRows = sorted([g for g in list(set(estratos))])\n",
    "regionsRows = sorted([g for g in list(set(regiones))])\n",
    "\n",
    "if condition == 1:\n",
    "    if characteritics[0]:\n",
    "        matrix = { k: 0 for k in genderRows }\n",
    "    elif characteritics[1]:\n",
    "        matrix = { k: 0 for k in estratoRows }\n",
    "    else:\n",
    "        matrix = { k: 0 for k in regionsRows }\n",
    "else:\n",
    "    if not characteritics[0]:\n",
    "        for e in estratoRows:\n",
    "            matrix = { k: regionsRows for k in estratoRows }\n",
    "    elif not characteritics[1]:\n",
    "        for g in genderRows:\n",
    "            matrix = { k: genderRows for k in regionsRows }\n",
    "    else:\n",
    "        for g in genderRows:\n",
    "            matrix = { k: genderRows for k in estratoRows }"
   ]
  },
  {
   "cell_type": "code",
   "execution_count": null,
   "id": "2d6f9e24",
   "metadata": {},
   "outputs": [],
   "source": []
  }
 ],
 "metadata": {
  "kernelspec": {
   "display_name": "Python 3 (ipykernel)",
   "language": "python",
   "name": "python3"
  },
  "language_info": {
   "codemirror_mode": {
    "name": "ipython",
    "version": 3
   },
   "file_extension": ".py",
   "mimetype": "text/x-python",
   "name": "python",
   "nbconvert_exporter": "python",
   "pygments_lexer": "ipython3",
   "version": "3.10.6"
  }
 },
 "nbformat": 4,
 "nbformat_minor": 5
}
